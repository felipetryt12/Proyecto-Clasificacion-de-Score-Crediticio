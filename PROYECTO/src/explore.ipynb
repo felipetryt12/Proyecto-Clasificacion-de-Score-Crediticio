{
    "cells": [
        {
            "cell_type": "code",
            "execution_count": 46,
            "metadata": {},
            "outputs": [
                {
                    "name": "stdout",
                    "output_type": "stream",
                    "text": [
                        "Dataset URL: https://www.kaggle.com/datasets/parisrohan/credit-score-classification\n"
                    ]
                }
            ],
            "source": [
                "import os\n",
                "from kaggle.api.kaggle_api_extended import KaggleApi\n",
                "\n",
                "# Set Kaggle API credentials\n",
                "os.environ['KAGGLE_USERNAME'] = 'nachovelu'\n",
                "os.environ['KAGGLE_KEY'] = 'eca89947e34630c8926c53427f4ad4da'\n",
                "\n",
                "# Initialize the Kaggle API\n",
                "api = KaggleApi()\n",
                "api.authenticate()\n",
                "\n",
                "# Download the dataset\n",
                "dataset = 'parisrohan/credit-score-classification'\n",
                "api.dataset_download_files(dataset, path='.', unzip=True)\n"
            ]
        },
        {
            "cell_type": "code",
            "execution_count": 47,
            "metadata": {},
            "outputs": [
                {
                    "name": "stderr",
                    "output_type": "stream",
                    "text": [
                        "C:\\Users\\wipip\\AppData\\Local\\Temp\\ipykernel_25196\\2209697490.py:3: DtypeWarning: Columns (26) have mixed types. Specify dtype option on import or set low_memory=False.\n",
                        "  data_train = pd.read_csv(r'C:\\Users\\wipip\\OneDrive\\Documentos\\GitHub\\Proyecto-Clasificacion-de-Score-Crediticio-main\\PROYECTO\\src\\train.csv')\n"
                    ]
                }
            ],
            "source": [
                "import pandas as pd \n",
                "\n",
                "data_train = pd.read_csv(r'C:\\Users\\wipip\\OneDrive\\Documentos\\GitHub\\Proyecto-Clasificacion-de-Score-Crediticio-main\\PROYECTO\\src\\train.csv')\n",
                "data_test = pd.read_csv(r'C:\\Users\\wipip\\OneDrive\\Documentos\\GitHub\\Proyecto-Clasificacion-de-Score-Crediticio-main\\PROYECTO\\src\\test.csv')"
            ]
        },
        {
            "cell_type": "code",
            "execution_count": 48,
            "metadata": {},
            "outputs": [
                {
                    "name": "stdout",
                    "output_type": "stream",
                    "text": [
                        "<class 'pandas.core.frame.DataFrame'>\n",
                        "RangeIndex: 50000 entries, 0 to 49999\n",
                        "Data columns (total 27 columns):\n",
                        " #   Column                    Non-Null Count  Dtype  \n",
                        "---  ------                    --------------  -----  \n",
                        " 0   ID                        50000 non-null  object \n",
                        " 1   Customer_ID               50000 non-null  object \n",
                        " 2   Month                     50000 non-null  object \n",
                        " 3   Name                      44985 non-null  object \n",
                        " 4   Age                       50000 non-null  object \n",
                        " 5   SSN                       50000 non-null  object \n",
                        " 6   Occupation                50000 non-null  object \n",
                        " 7   Annual_Income             50000 non-null  object \n",
                        " 8   Monthly_Inhand_Salary     42502 non-null  float64\n",
                        " 9   Num_Bank_Accounts         50000 non-null  int64  \n",
                        " 10  Num_Credit_Card           50000 non-null  int64  \n",
                        " 11  Interest_Rate             50000 non-null  int64  \n",
                        " 12  Num_of_Loan               50000 non-null  object \n",
                        " 13  Type_of_Loan              44296 non-null  object \n",
                        " 14  Delay_from_due_date       50000 non-null  int64  \n",
                        " 15  Num_of_Delayed_Payment    46502 non-null  object \n",
                        " 16  Changed_Credit_Limit      50000 non-null  object \n",
                        " 17  Num_Credit_Inquiries      48965 non-null  float64\n",
                        " 18  Credit_Mix                50000 non-null  object \n",
                        " 19  Outstanding_Debt          50000 non-null  object \n",
                        " 20  Credit_Utilization_Ratio  50000 non-null  float64\n",
                        " 21  Credit_History_Age        45530 non-null  object \n",
                        " 22  Payment_of_Min_Amount     50000 non-null  object \n",
                        " 23  Total_EMI_per_month       50000 non-null  float64\n",
                        " 24  Amount_invested_monthly   47729 non-null  object \n",
                        " 25  Payment_Behaviour         50000 non-null  object \n",
                        " 26  Monthly_Balance           49438 non-null  object \n",
                        "dtypes: float64(4), int64(4), object(19)\n",
                        "memory usage: 10.3+ MB\n",
                        "<class 'pandas.core.frame.DataFrame'>\n",
                        "RangeIndex: 100000 entries, 0 to 99999\n",
                        "Data columns (total 28 columns):\n",
                        " #   Column                    Non-Null Count   Dtype  \n",
                        "---  ------                    --------------   -----  \n",
                        " 0   ID                        100000 non-null  object \n",
                        " 1   Customer_ID               100000 non-null  object \n",
                        " 2   Month                     100000 non-null  object \n",
                        " 3   Name                      90015 non-null   object \n",
                        " 4   Age                       100000 non-null  object \n",
                        " 5   SSN                       100000 non-null  object \n",
                        " 6   Occupation                100000 non-null  object \n",
                        " 7   Annual_Income             100000 non-null  object \n",
                        " 8   Monthly_Inhand_Salary     84998 non-null   float64\n",
                        " 9   Num_Bank_Accounts         100000 non-null  int64  \n",
                        " 10  Num_Credit_Card           100000 non-null  int64  \n",
                        " 11  Interest_Rate             100000 non-null  int64  \n",
                        " 12  Num_of_Loan               100000 non-null  object \n",
                        " 13  Type_of_Loan              88592 non-null   object \n",
                        " 14  Delay_from_due_date       100000 non-null  int64  \n",
                        " 15  Num_of_Delayed_Payment    92998 non-null   object \n",
                        " 16  Changed_Credit_Limit      100000 non-null  object \n",
                        " 17  Num_Credit_Inquiries      98035 non-null   float64\n",
                        " 18  Credit_Mix                100000 non-null  object \n",
                        " 19  Outstanding_Debt          100000 non-null  object \n",
                        " 20  Credit_Utilization_Ratio  100000 non-null  float64\n",
                        " 21  Credit_History_Age        90970 non-null   object \n",
                        " 22  Payment_of_Min_Amount     100000 non-null  object \n",
                        " 23  Total_EMI_per_month       100000 non-null  float64\n",
                        " 24  Amount_invested_monthly   95521 non-null   object \n",
                        " 25  Payment_Behaviour         100000 non-null  object \n",
                        " 26  Monthly_Balance           98800 non-null   object \n",
                        " 27  Credit_Score              100000 non-null  object \n",
                        "dtypes: float64(4), int64(4), object(20)\n",
                        "memory usage: 21.4+ MB\n",
                        "None None\n"
                    ]
                }
            ],
            "source": [
                "print(data_test.info() , data_train.info())"
            ]
        },
        {
            "cell_type": "code",
            "execution_count": 49,
            "metadata": {},
            "outputs": [],
            "source": [
                "import sqlite3 "
            ]
        },
        {
            "cell_type": "code",
            "execution_count": 50,
            "metadata": {},
            "outputs": [],
            "source": [
                "conn = sqlite3.connect('database_credit.db')"
            ]
        },
        {
            "cell_type": "code",
            "execution_count": 51,
            "metadata": {},
            "outputs": [],
            "source": [
                "cursor = conn.cursor()"
            ]
        },
        {
            "cell_type": "code",
            "execution_count": 52,
            "metadata": {},
            "outputs": [
                {
                    "data": {
                        "text/plain": [
                            "50000"
                        ]
                    },
                    "execution_count": 52,
                    "metadata": {},
                    "output_type": "execute_result"
                }
            ],
            "source": [
                "data_train.to_sql('training_set', conn, if_exists='append', index=False)\n",
                "data_test.to_sql('testing_set', conn, if_exists='append', index=False)"
            ]
        },
        {
            "cell_type": "code",
            "execution_count": 53,
            "metadata": {},
            "outputs": [],
            "source": [
                "conn.commit()"
            ]
        },
        {
            "cell_type": "code",
            "execution_count": 54,
            "metadata": {},
            "outputs": [],
            "source": [
                "query_1 = ''' \n",
                "SELECT name FROM sqlite_master WHERE type='table';\n",
                "\n",
                "'''\n",
                "cursor.execute(query_1)\n",
                "tables = cursor.fetchall()"
            ]
        },
        {
            "cell_type": "code",
            "execution_count": 55,
            "metadata": {},
            "outputs": [
                {
                    "name": "stdout",
                    "output_type": "stream",
                    "text": [
                        "Tablas en la base de datos:\n",
                        "training_set\n",
                        "testing_set\n"
                    ]
                }
            ],
            "source": [
                "print(\"Tablas en la base de datos:\")\n",
                "for table in tables:\n",
                "    print(table[0])"
            ]
        },
        {
            "cell_type": "code",
            "execution_count": 56,
            "metadata": {},
            "outputs": [
                {
                    "data": {
                        "text/html": [
                            "<div>\n",
                            "<style scoped>\n",
                            "    .dataframe tbody tr th:only-of-type {\n",
                            "        vertical-align: middle;\n",
                            "    }\n",
                            "\n",
                            "    .dataframe tbody tr th {\n",
                            "        vertical-align: top;\n",
                            "    }\n",
                            "\n",
                            "    .dataframe thead th {\n",
                            "        text-align: right;\n",
                            "    }\n",
                            "</style>\n",
                            "<table border=\"1\" class=\"dataframe\">\n",
                            "  <thead>\n",
                            "    <tr style=\"text-align: right;\">\n",
                            "      <th></th>\n",
                            "      <th>ID</th>\n",
                            "      <th>Customer_ID</th>\n",
                            "      <th>Month</th>\n",
                            "      <th>Name</th>\n",
                            "      <th>Age</th>\n",
                            "      <th>SSN</th>\n",
                            "      <th>Occupation</th>\n",
                            "      <th>Annual_Income</th>\n",
                            "      <th>Monthly_Inhand_Salary</th>\n",
                            "      <th>Num_Bank_Accounts</th>\n",
                            "      <th>...</th>\n",
                            "      <th>Credit_Mix</th>\n",
                            "      <th>Outstanding_Debt</th>\n",
                            "      <th>Credit_Utilization_Ratio</th>\n",
                            "      <th>Credit_History_Age</th>\n",
                            "      <th>Payment_of_Min_Amount</th>\n",
                            "      <th>Total_EMI_per_month</th>\n",
                            "      <th>Amount_invested_monthly</th>\n",
                            "      <th>Payment_Behaviour</th>\n",
                            "      <th>Monthly_Balance</th>\n",
                            "      <th>Credit_Score</th>\n",
                            "    </tr>\n",
                            "  </thead>\n",
                            "  <tbody>\n",
                            "    <tr>\n",
                            "      <th>0</th>\n",
                            "      <td>0x1602</td>\n",
                            "      <td>CUS_0xd40</td>\n",
                            "      <td>January</td>\n",
                            "      <td>Aaron Maashoh</td>\n",
                            "      <td>23</td>\n",
                            "      <td>821-00-0265</td>\n",
                            "      <td>Scientist</td>\n",
                            "      <td>19114.12</td>\n",
                            "      <td>1824.843333</td>\n",
                            "      <td>3</td>\n",
                            "      <td>...</td>\n",
                            "      <td>_</td>\n",
                            "      <td>809.98</td>\n",
                            "      <td>26.822620</td>\n",
                            "      <td>22 Years and 1 Months</td>\n",
                            "      <td>No</td>\n",
                            "      <td>49.574949</td>\n",
                            "      <td>80.41529543900253</td>\n",
                            "      <td>High_spent_Small_value_payments</td>\n",
                            "      <td>312.49408867943663</td>\n",
                            "      <td>Good</td>\n",
                            "    </tr>\n",
                            "    <tr>\n",
                            "      <th>1</th>\n",
                            "      <td>0x1603</td>\n",
                            "      <td>CUS_0xd40</td>\n",
                            "      <td>February</td>\n",
                            "      <td>Aaron Maashoh</td>\n",
                            "      <td>23</td>\n",
                            "      <td>821-00-0265</td>\n",
                            "      <td>Scientist</td>\n",
                            "      <td>19114.12</td>\n",
                            "      <td>NaN</td>\n",
                            "      <td>3</td>\n",
                            "      <td>...</td>\n",
                            "      <td>Good</td>\n",
                            "      <td>809.98</td>\n",
                            "      <td>31.944960</td>\n",
                            "      <td>None</td>\n",
                            "      <td>No</td>\n",
                            "      <td>49.574949</td>\n",
                            "      <td>118.28022162236736</td>\n",
                            "      <td>Low_spent_Large_value_payments</td>\n",
                            "      <td>284.62916249607184</td>\n",
                            "      <td>Good</td>\n",
                            "    </tr>\n",
                            "    <tr>\n",
                            "      <th>2</th>\n",
                            "      <td>0x1604</td>\n",
                            "      <td>CUS_0xd40</td>\n",
                            "      <td>March</td>\n",
                            "      <td>Aaron Maashoh</td>\n",
                            "      <td>-500</td>\n",
                            "      <td>821-00-0265</td>\n",
                            "      <td>Scientist</td>\n",
                            "      <td>19114.12</td>\n",
                            "      <td>NaN</td>\n",
                            "      <td>3</td>\n",
                            "      <td>...</td>\n",
                            "      <td>Good</td>\n",
                            "      <td>809.98</td>\n",
                            "      <td>28.609352</td>\n",
                            "      <td>22 Years and 3 Months</td>\n",
                            "      <td>No</td>\n",
                            "      <td>49.574949</td>\n",
                            "      <td>81.699521264648</td>\n",
                            "      <td>Low_spent_Medium_value_payments</td>\n",
                            "      <td>331.2098628537912</td>\n",
                            "      <td>Good</td>\n",
                            "    </tr>\n",
                            "    <tr>\n",
                            "      <th>3</th>\n",
                            "      <td>0x1605</td>\n",
                            "      <td>CUS_0xd40</td>\n",
                            "      <td>April</td>\n",
                            "      <td>Aaron Maashoh</td>\n",
                            "      <td>23</td>\n",
                            "      <td>821-00-0265</td>\n",
                            "      <td>Scientist</td>\n",
                            "      <td>19114.12</td>\n",
                            "      <td>NaN</td>\n",
                            "      <td>3</td>\n",
                            "      <td>...</td>\n",
                            "      <td>Good</td>\n",
                            "      <td>809.98</td>\n",
                            "      <td>31.377862</td>\n",
                            "      <td>22 Years and 4 Months</td>\n",
                            "      <td>No</td>\n",
                            "      <td>49.574949</td>\n",
                            "      <td>199.4580743910713</td>\n",
                            "      <td>Low_spent_Small_value_payments</td>\n",
                            "      <td>223.45130972736786</td>\n",
                            "      <td>Good</td>\n",
                            "    </tr>\n",
                            "    <tr>\n",
                            "      <th>4</th>\n",
                            "      <td>0x1606</td>\n",
                            "      <td>CUS_0xd40</td>\n",
                            "      <td>May</td>\n",
                            "      <td>Aaron Maashoh</td>\n",
                            "      <td>23</td>\n",
                            "      <td>821-00-0265</td>\n",
                            "      <td>Scientist</td>\n",
                            "      <td>19114.12</td>\n",
                            "      <td>1824.843333</td>\n",
                            "      <td>3</td>\n",
                            "      <td>...</td>\n",
                            "      <td>Good</td>\n",
                            "      <td>809.98</td>\n",
                            "      <td>24.797347</td>\n",
                            "      <td>22 Years and 5 Months</td>\n",
                            "      <td>No</td>\n",
                            "      <td>49.574949</td>\n",
                            "      <td>41.420153086217326</td>\n",
                            "      <td>High_spent_Medium_value_payments</td>\n",
                            "      <td>341.48923103222177</td>\n",
                            "      <td>Good</td>\n",
                            "    </tr>\n",
                            "  </tbody>\n",
                            "</table>\n",
                            "<p>5 rows × 28 columns</p>\n",
                            "</div>"
                        ],
                        "text/plain": [
                            "       ID Customer_ID     Month           Name   Age          SSN Occupation  \\\n",
                            "0  0x1602   CUS_0xd40   January  Aaron Maashoh    23  821-00-0265  Scientist   \n",
                            "1  0x1603   CUS_0xd40  February  Aaron Maashoh    23  821-00-0265  Scientist   \n",
                            "2  0x1604   CUS_0xd40     March  Aaron Maashoh  -500  821-00-0265  Scientist   \n",
                            "3  0x1605   CUS_0xd40     April  Aaron Maashoh    23  821-00-0265  Scientist   \n",
                            "4  0x1606   CUS_0xd40       May  Aaron Maashoh    23  821-00-0265  Scientist   \n",
                            "\n",
                            "  Annual_Income  Monthly_Inhand_Salary  Num_Bank_Accounts  ...  Credit_Mix  \\\n",
                            "0      19114.12            1824.843333                  3  ...           _   \n",
                            "1      19114.12                    NaN                  3  ...        Good   \n",
                            "2      19114.12                    NaN                  3  ...        Good   \n",
                            "3      19114.12                    NaN                  3  ...        Good   \n",
                            "4      19114.12            1824.843333                  3  ...        Good   \n",
                            "\n",
                            "   Outstanding_Debt Credit_Utilization_Ratio     Credit_History_Age  \\\n",
                            "0            809.98                26.822620  22 Years and 1 Months   \n",
                            "1            809.98                31.944960                   None   \n",
                            "2            809.98                28.609352  22 Years and 3 Months   \n",
                            "3            809.98                31.377862  22 Years and 4 Months   \n",
                            "4            809.98                24.797347  22 Years and 5 Months   \n",
                            "\n",
                            "   Payment_of_Min_Amount Total_EMI_per_month Amount_invested_monthly  \\\n",
                            "0                     No           49.574949       80.41529543900253   \n",
                            "1                     No           49.574949      118.28022162236736   \n",
                            "2                     No           49.574949         81.699521264648   \n",
                            "3                     No           49.574949       199.4580743910713   \n",
                            "4                     No           49.574949      41.420153086217326   \n",
                            "\n",
                            "                  Payment_Behaviour     Monthly_Balance Credit_Score  \n",
                            "0   High_spent_Small_value_payments  312.49408867943663         Good  \n",
                            "1    Low_spent_Large_value_payments  284.62916249607184         Good  \n",
                            "2   Low_spent_Medium_value_payments   331.2098628537912         Good  \n",
                            "3    Low_spent_Small_value_payments  223.45130972736786         Good  \n",
                            "4  High_spent_Medium_value_payments  341.48923103222177         Good  \n",
                            "\n",
                            "[5 rows x 28 columns]"
                        ]
                    },
                    "execution_count": 56,
                    "metadata": {},
                    "output_type": "execute_result"
                }
            ],
            "source": [
                "tabla_prueba = pd.read_sql_query('SELECT * FROM training_set', conn)\n",
                "tabla_prueba.head()"
            ]
        },
        {
            "cell_type": "code",
            "execution_count": 57,
            "metadata": {},
            "outputs": [],
            "source": [
                "query_2 = ''' \n",
                "SELECT ID, COUNT(*)\n",
                "FROM training_set\n",
                "GROUP BY ID\n",
                "HAVING COUNT(*) > 1;\n",
                "'''\n",
                "duplicados_en_training_set = pd.read_sql_query(query_2, conn )"
            ]
        },
        {
            "cell_type": "code",
            "execution_count": 58,
            "metadata": {},
            "outputs": [
                {
                    "name": "stdout",
                    "output_type": "stream",
                    "text": [
                        "(100000, 2)\n"
                    ]
                }
            ],
            "source": [
                "print(duplicados_en_training_set.shape)"
            ]
        },
        {
            "cell_type": "markdown",
            "metadata": {},
            "source": [
                "Con este query podemos comprobar que no existen filas duplicadas dentro de nuestro data set de training"
            ]
        },
        {
            "cell_type": "code",
            "execution_count": 64,
            "metadata": {},
            "outputs": [],
            "source": [
                "data_1 = pd.read_sql_query('SELECT * FROM training_set', conn)"
            ]
        },
        {
            "cell_type": "code",
            "execution_count": 65,
            "metadata": {},
            "outputs": [
                {
                    "name": "stdout",
                    "output_type": "stream",
                    "text": [
                        "\n",
                        "Estructura de la tabla training_set:\n",
                        "ID - TEXT\n",
                        "Customer_ID - TEXT\n",
                        "Month - TEXT\n",
                        "Name - TEXT\n",
                        "Age - TEXT\n",
                        "SSN - TEXT\n",
                        "Occupation - TEXT\n",
                        "Annual_Income - TEXT\n",
                        "Monthly_Inhand_Salary - REAL\n",
                        "Num_Bank_Accounts - INTEGER\n",
                        "Num_Credit_Card - INTEGER\n",
                        "Interest_Rate - INTEGER\n",
                        "Num_of_Loan - TEXT\n",
                        "Type_of_Loan - TEXT\n",
                        "Delay_from_due_date - INTEGER\n",
                        "Num_of_Delayed_Payment - TEXT\n",
                        "Changed_Credit_Limit - TEXT\n",
                        "Num_Credit_Inquiries - REAL\n",
                        "Credit_Mix - TEXT\n",
                        "Outstanding_Debt - TEXT\n",
                        "Credit_Utilization_Ratio - REAL\n",
                        "Credit_History_Age - TEXT\n",
                        "Payment_of_Min_Amount - TEXT\n",
                        "Total_EMI_per_month - REAL\n",
                        "Amount_invested_monthly - TEXT\n",
                        "Payment_Behaviour - TEXT\n",
                        "Monthly_Balance - TEXT\n",
                        "Credit_Score - TEXT\n",
                        "\n",
                        "Estructura de la tabla testing_set:\n",
                        "ID - TEXT\n",
                        "Customer_ID - TEXT\n",
                        "Month - TEXT\n",
                        "Name - TEXT\n",
                        "Age - TEXT\n",
                        "SSN - TEXT\n",
                        "Occupation - TEXT\n",
                        "Annual_Income - TEXT\n",
                        "Monthly_Inhand_Salary - REAL\n",
                        "Num_Bank_Accounts - INTEGER\n",
                        "Num_Credit_Card - INTEGER\n",
                        "Interest_Rate - INTEGER\n",
                        "Num_of_Loan - TEXT\n",
                        "Type_of_Loan - TEXT\n",
                        "Delay_from_due_date - INTEGER\n",
                        "Num_of_Delayed_Payment - TEXT\n",
                        "Changed_Credit_Limit - TEXT\n",
                        "Num_Credit_Inquiries - REAL\n",
                        "Credit_Mix - TEXT\n",
                        "Outstanding_Debt - TEXT\n",
                        "Credit_Utilization_Ratio - REAL\n",
                        "Credit_History_Age - TEXT\n",
                        "Payment_of_Min_Amount - TEXT\n",
                        "Total_EMI_per_month - REAL\n",
                        "Amount_invested_monthly - TEXT\n",
                        "Payment_Behaviour - TEXT\n",
                        "Monthly_Balance - TEXT\n"
                    ]
                }
            ],
            "source": [
                "for tabla in tables:\n",
                "    print(f\"\\nEstructura de la tabla {tabla[0]}:\")\n",
                "    cursor.execute(f\"PRAGMA table_info({tabla[0]});\")\n",
                "    columnas = cursor.fetchall()\n",
                "    for columna in columnas:\n",
                "        print(f\"{columna[1]} - {columna[2]}\")"
            ]
        },
        {
            "cell_type": "code",
            "execution_count": 66,
            "metadata": {},
            "outputs": [],
            "source": [
                "conn.commit()"
            ]
        },
        {
            "cell_type": "markdown",
            "metadata": {},
            "source": [
                "Por el momento cerramos el uso de la base de datos, una vez que analizamos la estructura de las dos tablas podemos tener una mejor idea de el tipo de datos con el que estamos trabajando, con ello podemos proceder a realizar un analisis descriptivo."
            ]
        },
        {
            "cell_type": "markdown",
            "metadata": {},
            "source": [
                "Vamos a empezar a describir el training set al cual llamamos como data_db una vez que lo llamamos desde nuestra base de datos."
            ]
        },
        {
            "cell_type": "code",
            "execution_count": 67,
            "metadata": {},
            "outputs": [
                {
                    "name": "stdout",
                    "output_type": "stream",
                    "text": [
                        "<class 'pandas.core.frame.DataFrame'>\n",
                        "RangeIndex: 200000 entries, 0 to 199999\n",
                        "Data columns (total 28 columns):\n",
                        " #   Column                    Non-Null Count   Dtype  \n",
                        "---  ------                    --------------   -----  \n",
                        " 0   ID                        200000 non-null  object \n",
                        " 1   Customer_ID               200000 non-null  object \n",
                        " 2   Month                     200000 non-null  object \n",
                        " 3   Name                      180030 non-null  object \n",
                        " 4   Age                       200000 non-null  object \n",
                        " 5   SSN                       200000 non-null  object \n",
                        " 6   Occupation                200000 non-null  object \n",
                        " 7   Annual_Income             200000 non-null  object \n",
                        " 8   Monthly_Inhand_Salary     169996 non-null  float64\n",
                        " 9   Num_Bank_Accounts         200000 non-null  int64  \n",
                        " 10  Num_Credit_Card           200000 non-null  int64  \n",
                        " 11  Interest_Rate             200000 non-null  int64  \n",
                        " 12  Num_of_Loan               200000 non-null  object \n",
                        " 13  Type_of_Loan              177184 non-null  object \n",
                        " 14  Delay_from_due_date       200000 non-null  int64  \n",
                        " 15  Num_of_Delayed_Payment    185996 non-null  object \n",
                        " 16  Changed_Credit_Limit      200000 non-null  object \n",
                        " 17  Num_Credit_Inquiries      196070 non-null  float64\n",
                        " 18  Credit_Mix                200000 non-null  object \n",
                        " 19  Outstanding_Debt          200000 non-null  object \n",
                        " 20  Credit_Utilization_Ratio  200000 non-null  float64\n",
                        " 21  Credit_History_Age        181940 non-null  object \n",
                        " 22  Payment_of_Min_Amount     200000 non-null  object \n",
                        " 23  Total_EMI_per_month       200000 non-null  float64\n",
                        " 24  Amount_invested_monthly   191042 non-null  object \n",
                        " 25  Payment_Behaviour         200000 non-null  object \n",
                        " 26  Monthly_Balance           197600 non-null  object \n",
                        " 27  Credit_Score              200000 non-null  object \n",
                        "dtypes: float64(4), int64(4), object(20)\n",
                        "memory usage: 42.7+ MB\n"
                    ]
                }
            ],
            "source": [
                "data_1.info()  "
            ]
        },
        {
            "cell_type": "code",
            "execution_count": 62,
            "metadata": {},
            "outputs": [
                {
                    "data": {
                        "text/html": [
                            "<div>\n",
                            "<style scoped>\n",
                            "    .dataframe tbody tr th:only-of-type {\n",
                            "        vertical-align: middle;\n",
                            "    }\n",
                            "\n",
                            "    .dataframe tbody tr th {\n",
                            "        vertical-align: top;\n",
                            "    }\n",
                            "\n",
                            "    .dataframe thead th {\n",
                            "        text-align: right;\n",
                            "    }\n",
                            "</style>\n",
                            "<table border=\"1\" class=\"dataframe\">\n",
                            "  <thead>\n",
                            "    <tr style=\"text-align: right;\">\n",
                            "      <th></th>\n",
                            "      <th>Monthly_Inhand_Salary</th>\n",
                            "      <th>Num_Bank_Accounts</th>\n",
                            "      <th>Num_Credit_Card</th>\n",
                            "      <th>Interest_Rate</th>\n",
                            "      <th>Delay_from_due_date</th>\n",
                            "      <th>Num_Credit_Inquiries</th>\n",
                            "      <th>Credit_Utilization_Ratio</th>\n",
                            "      <th>Total_EMI_per_month</th>\n",
                            "    </tr>\n",
                            "  </thead>\n",
                            "  <tbody>\n",
                            "    <tr>\n",
                            "      <th>count</th>\n",
                            "      <td>169996.000000</td>\n",
                            "      <td>200000.000000</td>\n",
                            "      <td>200000.000000</td>\n",
                            "      <td>200000.000000</td>\n",
                            "      <td>200000.000000</td>\n",
                            "      <td>196070.000000</td>\n",
                            "      <td>200000.000000</td>\n",
                            "      <td>200000.000000</td>\n",
                            "    </tr>\n",
                            "    <tr>\n",
                            "      <th>mean</th>\n",
                            "      <td>4194.170850</td>\n",
                            "      <td>17.091280</td>\n",
                            "      <td>22.474430</td>\n",
                            "      <td>72.466040</td>\n",
                            "      <td>21.068780</td>\n",
                            "      <td>27.754251</td>\n",
                            "      <td>32.285173</td>\n",
                            "      <td>1403.118217</td>\n",
                            "    </tr>\n",
                            "    <tr>\n",
                            "      <th>std</th>\n",
                            "      <td>3183.676803</td>\n",
                            "      <td>117.404541</td>\n",
                            "      <td>129.057087</td>\n",
                            "      <td>466.421455</td>\n",
                            "      <td>14.860067</td>\n",
                            "      <td>193.176846</td>\n",
                            "      <td>5.116862</td>\n",
                            "      <td>8306.020505</td>\n",
                            "    </tr>\n",
                            "    <tr>\n",
                            "      <th>min</th>\n",
                            "      <td>303.645417</td>\n",
                            "      <td>-1.000000</td>\n",
                            "      <td>0.000000</td>\n",
                            "      <td>1.000000</td>\n",
                            "      <td>-5.000000</td>\n",
                            "      <td>0.000000</td>\n",
                            "      <td>20.000000</td>\n",
                            "      <td>0.000000</td>\n",
                            "    </tr>\n",
                            "    <tr>\n",
                            "      <th>25%</th>\n",
                            "      <td>1625.558333</td>\n",
                            "      <td>3.000000</td>\n",
                            "      <td>4.000000</td>\n",
                            "      <td>8.000000</td>\n",
                            "      <td>10.000000</td>\n",
                            "      <td>3.000000</td>\n",
                            "      <td>28.052567</td>\n",
                            "      <td>30.306660</td>\n",
                            "    </tr>\n",
                            "    <tr>\n",
                            "      <th>50%</th>\n",
                            "      <td>3093.745000</td>\n",
                            "      <td>6.000000</td>\n",
                            "      <td>5.000000</td>\n",
                            "      <td>13.000000</td>\n",
                            "      <td>18.000000</td>\n",
                            "      <td>6.000000</td>\n",
                            "      <td>32.305784</td>\n",
                            "      <td>69.249473</td>\n",
                            "    </tr>\n",
                            "    <tr>\n",
                            "      <th>75%</th>\n",
                            "      <td>5957.448333</td>\n",
                            "      <td>7.000000</td>\n",
                            "      <td>7.000000</td>\n",
                            "      <td>20.000000</td>\n",
                            "      <td>28.000000</td>\n",
                            "      <td>9.000000</td>\n",
                            "      <td>36.496663</td>\n",
                            "      <td>161.224249</td>\n",
                            "    </tr>\n",
                            "    <tr>\n",
                            "      <th>max</th>\n",
                            "      <td>15204.633333</td>\n",
                            "      <td>1798.000000</td>\n",
                            "      <td>1499.000000</td>\n",
                            "      <td>5797.000000</td>\n",
                            "      <td>67.000000</td>\n",
                            "      <td>2597.000000</td>\n",
                            "      <td>50.000000</td>\n",
                            "      <td>82331.000000</td>\n",
                            "    </tr>\n",
                            "  </tbody>\n",
                            "</table>\n",
                            "</div>"
                        ],
                        "text/plain": [
                            "       Monthly_Inhand_Salary  Num_Bank_Accounts  Num_Credit_Card  \\\n",
                            "count          169996.000000      200000.000000    200000.000000   \n",
                            "mean             4194.170850          17.091280        22.474430   \n",
                            "std              3183.676803         117.404541       129.057087   \n",
                            "min               303.645417          -1.000000         0.000000   \n",
                            "25%              1625.558333           3.000000         4.000000   \n",
                            "50%              3093.745000           6.000000         5.000000   \n",
                            "75%              5957.448333           7.000000         7.000000   \n",
                            "max             15204.633333        1798.000000      1499.000000   \n",
                            "\n",
                            "       Interest_Rate  Delay_from_due_date  Num_Credit_Inquiries  \\\n",
                            "count  200000.000000        200000.000000         196070.000000   \n",
                            "mean       72.466040            21.068780             27.754251   \n",
                            "std       466.421455            14.860067            193.176846   \n",
                            "min         1.000000            -5.000000              0.000000   \n",
                            "25%         8.000000            10.000000              3.000000   \n",
                            "50%        13.000000            18.000000              6.000000   \n",
                            "75%        20.000000            28.000000              9.000000   \n",
                            "max      5797.000000            67.000000           2597.000000   \n",
                            "\n",
                            "       Credit_Utilization_Ratio  Total_EMI_per_month  \n",
                            "count             200000.000000        200000.000000  \n",
                            "mean                  32.285173          1403.118217  \n",
                            "std                    5.116862          8306.020505  \n",
                            "min                   20.000000             0.000000  \n",
                            "25%                   28.052567            30.306660  \n",
                            "50%                   32.305784            69.249473  \n",
                            "75%                   36.496663           161.224249  \n",
                            "max                   50.000000         82331.000000  "
                        ]
                    },
                    "execution_count": 62,
                    "metadata": {},
                    "output_type": "execute_result"
                }
            ],
            "source": [
                "data_db.describe()"
            ]
        },
        {
            "cell_type": "code",
            "execution_count": null,
            "metadata": {},
            "outputs": [],
            "source": [
                "def estadistica_descriptiva(df):\n",
                "    for columna in df:\n",
                "        "
            ]
        }
    ],
    "metadata": {
        "kernelspec": {
            "display_name": "Python 3.8.13 64-bit ('3.8.13')",
            "language": "python",
            "name": "python3"
        },
        "language_info": {
            "codemirror_mode": {
                "name": "ipython",
                "version": 3
            },
            "file_extension": ".py",
            "mimetype": "text/x-python",
            "name": "python",
            "nbconvert_exporter": "python",
            "pygments_lexer": "ipython3",
            "version": "3.12.4"
        },
        "orig_nbformat": 4,
        "vscode": {
            "interpreter": {
                "hash": "110cc1dee26208153f2972f08a2ad52b6a56238dc66d48e87fb757ef2996db56"
            }
        }
    },
    "nbformat": 4,
    "nbformat_minor": 2
}
